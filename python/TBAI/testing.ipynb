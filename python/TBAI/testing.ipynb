{
 "cells": [
  {
   "cell_type": "code",
   "execution_count": 3,
   "metadata": {},
   "outputs": [],
   "source": [
    "from pq import PriorityQueue"
   ]
  },
  {
   "cell_type": "code",
   "execution_count": 6,
   "metadata": {},
   "outputs": [
    {
     "name": "stdout",
     "output_type": "stream",
     "text": [
      "twos\n",
      "\n",
      "\n",
      "one\n",
      "bb\n",
      "None\n",
      "None\n"
     ]
    }
   ],
   "source": [
    "hash_function = lambda(s): s\n",
    "value_function = lambda(s): len(s)\n",
    "\n",
    "heap = PriorityQueue(hash_function, value_function, low_best=False)\n",
    "\n",
    "heap.add('one')\n",
    "heap.add('twos')\n",
    "heap.add('bb')\n",
    "print heap.pop()\n",
    "print '\\n'\n",
    "for item in heap._items:\n",
    "    print item"
   ]
  },
  {
   "cell_type": "code",
   "execution_count": null,
   "metadata": {
    "collapsed": true
   },
   "outputs": [],
   "source": []
  }
 ],
 "metadata": {
  "kernelspec": {
   "display_name": "Python 2",
   "language": "python",
   "name": "python2"
  },
  "language_info": {
   "codemirror_mode": {
    "name": "ipython",
    "version": 2
   },
   "file_extension": ".py",
   "mimetype": "text/x-python",
   "name": "python",
   "nbconvert_exporter": "python",
   "pygments_lexer": "ipython2",
   "version": "2.7.13"
  }
 },
 "nbformat": 4,
 "nbformat_minor": 2
}
